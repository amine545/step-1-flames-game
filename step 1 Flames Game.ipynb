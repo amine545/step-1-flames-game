{
 "cells": [
  {
   "cell_type": "code",
   "execution_count": 3,
   "id": "0e541d19",
   "metadata": {},
   "outputs": [
    {
     "name": "stdout",
     "output_type": "stream",
     "text": [
      "(['m', 'n', 'e'], '*', ['z', 'z'])\n"
     ]
    }
   ],
   "source": [
    "def erase(list1,list2):\n",
    "    list3=[]\n",
    "    list4=[]\n",
    "    list5=[]\n",
    "    b=0\n",
    "    c = 0\n",
    "    list6 = []\n",
    "    for i in range(len(list1)):\n",
    "        if list1[i] not in list1[:i]:\n",
    "            if list1.count(list1[i]) <= list2.count(list1[i]):\n",
    "                for j in range(list1.count(list1[i])):\n",
    "                    list3.append(list1[i])\n",
    "            elif list1.count(list1[i]) > list2.count(list1[i]):\n",
    "                for a in range(list2.count(list1[i])):\n",
    "                    list3.append(list1[i])\n",
    "    for k in range(len(list3)):\n",
    "        list4.append(list3[k])\n",
    "    while  b<len(list1):\n",
    "        if list1[b] not in list3:\n",
    "            list5.append(list1[b])\n",
    "        elif list1[b] in list3:\n",
    "            list3.remove(list1[b])\n",
    "        b += 1\n",
    "    while c < len(list2):\n",
    "        if list2[c] not in list4:\n",
    "            list6.append(list2[c])\n",
    "        elif list2[c] in list4:\n",
    "            list4.remove(list2[c])\n",
    "        c += 1\n",
    "    return list5 ,'*',list6\n",
    "list1 = list('amine')\n",
    "list2 = list('aziz')\n",
    "print(erase(list1,list2))\n",
    "\n",
    "\n"
   ]
  },
  {
   "cell_type": "code",
   "execution_count": null,
   "id": "780d5ca0",
   "metadata": {},
   "outputs": [],
   "source": []
  }
 ],
 "metadata": {
  "kernelspec": {
   "display_name": "Python 3",
   "language": "python",
   "name": "python3"
  },
  "language_info": {
   "codemirror_mode": {
    "name": "ipython",
    "version": 3
   },
   "file_extension": ".py",
   "mimetype": "text/x-python",
   "name": "python",
   "nbconvert_exporter": "python",
   "pygments_lexer": "ipython3",
   "version": "3.8.8"
  }
 },
 "nbformat": 4,
 "nbformat_minor": 5
}
